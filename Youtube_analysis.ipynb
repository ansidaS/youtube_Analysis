{
 "cells": [
  {
   "cell_type": "code",
   "execution_count": 1,
   "id": "a8b7bd3e",
   "metadata": {},
   "outputs": [],
   "source": [
    "import numpy as np\n",
    "import pandas as pd\n",
    "import matplotlib.pyplot as plt\n",
    "import seaborn as sns"
   ]
  },
  {
   "cell_type": "code",
   "execution_count": 3,
   "id": "ff7e1618",
   "metadata": {},
   "outputs": [
    {
     "data": {
      "text/html": [
       "<div>\n",
       "<style scoped>\n",
       "    .dataframe tbody tr th:only-of-type {\n",
       "        vertical-align: middle;\n",
       "    }\n",
       "\n",
       "    .dataframe tbody tr th {\n",
       "        vertical-align: top;\n",
       "    }\n",
       "\n",
       "    .dataframe thead th {\n",
       "        text-align: right;\n",
       "    }\n",
       "</style>\n",
       "<table border=\"1\" class=\"dataframe\">\n",
       "  <thead>\n",
       "    <tr style=\"text-align: right;\">\n",
       "      <th></th>\n",
       "      <th>Rank</th>\n",
       "      <th>Grade</th>\n",
       "      <th>Channel name</th>\n",
       "      <th>Video Uploads</th>\n",
       "      <th>Subscribers</th>\n",
       "      <th>Video views</th>\n",
       "    </tr>\n",
       "  </thead>\n",
       "  <tbody>\n",
       "    <tr>\n",
       "      <th>0</th>\n",
       "      <td>1st</td>\n",
       "      <td>A++</td>\n",
       "      <td>Zee TV</td>\n",
       "      <td>82757</td>\n",
       "      <td>18752951</td>\n",
       "      <td>20869786591</td>\n",
       "    </tr>\n",
       "    <tr>\n",
       "      <th>1</th>\n",
       "      <td>2nd</td>\n",
       "      <td>A++</td>\n",
       "      <td>T-Series</td>\n",
       "      <td>12661</td>\n",
       "      <td>61196302</td>\n",
       "      <td>47548839843</td>\n",
       "    </tr>\n",
       "    <tr>\n",
       "      <th>2</th>\n",
       "      <td>3rd</td>\n",
       "      <td>A++</td>\n",
       "      <td>Cocomelon - Nursery Rhymes</td>\n",
       "      <td>373</td>\n",
       "      <td>19238251</td>\n",
       "      <td>9793305082</td>\n",
       "    </tr>\n",
       "    <tr>\n",
       "      <th>3</th>\n",
       "      <td>4th</td>\n",
       "      <td>A++</td>\n",
       "      <td>SET India</td>\n",
       "      <td>27323</td>\n",
       "      <td>31180559</td>\n",
       "      <td>22675948293</td>\n",
       "    </tr>\n",
       "    <tr>\n",
       "      <th>4</th>\n",
       "      <td>5th</td>\n",
       "      <td>A++</td>\n",
       "      <td>WWE</td>\n",
       "      <td>36756</td>\n",
       "      <td>32852346</td>\n",
       "      <td>26273668433</td>\n",
       "    </tr>\n",
       "  </tbody>\n",
       "</table>\n",
       "</div>"
      ],
      "text/plain": [
       "  Rank Grade                Channel name Video Uploads Subscribers  \\\n",
       "0  1st  A++                       Zee TV         82757    18752951   \n",
       "1  2nd  A++                     T-Series         12661    61196302   \n",
       "2  3rd  A++   Cocomelon - Nursery Rhymes           373    19238251   \n",
       "3  4th  A++                    SET India         27323    31180559   \n",
       "4  5th  A++                          WWE         36756    32852346   \n",
       "\n",
       "   Video views  \n",
       "0  20869786591  \n",
       "1  47548839843  \n",
       "2   9793305082  \n",
       "3  22675948293  \n",
       "4  26273668433  "
      ]
     },
     "execution_count": 3,
     "metadata": {},
     "output_type": "execute_result"
    }
   ],
   "source": [
    "ytube = pd.read_csv('C:\\\\Users\\\\arunc\\\\Desktop\\\\data cleaning\\\\top-5000-youtube-channels.csv')\n",
    "ytube.head()"
   ]
  },
  {
   "cell_type": "code",
   "execution_count": 4,
   "id": "a13b32f4",
   "metadata": {},
   "outputs": [
    {
     "data": {
      "text/plain": [
       "Rank             0\n",
       "Grade            0\n",
       "Channel name     0\n",
       "Video Uploads    0\n",
       "Subscribers      0\n",
       "Video views      0\n",
       "dtype: int64"
      ]
     },
     "execution_count": 4,
     "metadata": {},
     "output_type": "execute_result"
    }
   ],
   "source": [
    "ytube.isnull().sum()\n",
    "#Hence no missing values found"
   ]
  },
  {
   "cell_type": "code",
   "execution_count": 5,
   "id": "c3fbdeb9",
   "metadata": {},
   "outputs": [
    {
     "name": "stdout",
     "output_type": "stream",
     "text": [
      "<class 'pandas.core.frame.DataFrame'>\n",
      "RangeIndex: 5000 entries, 0 to 4999\n",
      "Data columns (total 6 columns):\n",
      " #   Column         Non-Null Count  Dtype \n",
      "---  ------         --------------  ----- \n",
      " 0   Rank           5000 non-null   object\n",
      " 1   Grade          5000 non-null   object\n",
      " 2   Channel name   5000 non-null   object\n",
      " 3   Video Uploads  5000 non-null   object\n",
      " 4   Subscribers    5000 non-null   object\n",
      " 5   Video views    5000 non-null   int64 \n",
      "dtypes: int64(1), object(5)\n",
      "memory usage: 234.5+ KB\n"
     ]
    }
   ],
   "source": [
    "ytube.info()"
   ]
  },
  {
   "cell_type": "code",
   "execution_count": 6,
   "id": "9614fafc",
   "metadata": {},
   "outputs": [],
   "source": [
    "###Will change datatypes of Rank,Grade,Video Uploads,Subscribers to Numerical Datatype\n",
    "ytube['Rank'] = ytube['Rank'].str[0:-2].str.replace(',','').astype('int')"
   ]
  },
  {
   "cell_type": "code",
   "execution_count": 7,
   "id": "b02fad7e",
   "metadata": {},
   "outputs": [
    {
     "data": {
      "text/html": [
       "<div>\n",
       "<style scoped>\n",
       "    .dataframe tbody tr th:only-of-type {\n",
       "        vertical-align: middle;\n",
       "    }\n",
       "\n",
       "    .dataframe tbody tr th {\n",
       "        vertical-align: top;\n",
       "    }\n",
       "\n",
       "    .dataframe thead th {\n",
       "        text-align: right;\n",
       "    }\n",
       "</style>\n",
       "<table border=\"1\" class=\"dataframe\">\n",
       "  <thead>\n",
       "    <tr style=\"text-align: right;\">\n",
       "      <th></th>\n",
       "      <th>Rank</th>\n",
       "      <th>Grade</th>\n",
       "      <th>Channel name</th>\n",
       "      <th>Video Uploads</th>\n",
       "      <th>Subscribers</th>\n",
       "      <th>Video views</th>\n",
       "    </tr>\n",
       "  </thead>\n",
       "  <tbody>\n",
       "    <tr>\n",
       "      <th>4995</th>\n",
       "      <td>4996</td>\n",
       "      <td>B+</td>\n",
       "      <td>Uras Benlioğlu</td>\n",
       "      <td>706</td>\n",
       "      <td>2072942</td>\n",
       "      <td>441202795</td>\n",
       "    </tr>\n",
       "    <tr>\n",
       "      <th>4996</th>\n",
       "      <td>4997</td>\n",
       "      <td>B+</td>\n",
       "      <td>HI-TECH MUSIC LTD</td>\n",
       "      <td>797</td>\n",
       "      <td>1055091</td>\n",
       "      <td>377331722</td>\n",
       "    </tr>\n",
       "    <tr>\n",
       "      <th>4997</th>\n",
       "      <td>4998</td>\n",
       "      <td>B+</td>\n",
       "      <td>Mastersaint</td>\n",
       "      <td>110</td>\n",
       "      <td>3265735</td>\n",
       "      <td>311758426</td>\n",
       "    </tr>\n",
       "    <tr>\n",
       "      <th>4998</th>\n",
       "      <td>4999</td>\n",
       "      <td>B+</td>\n",
       "      <td>Bruce McIntosh</td>\n",
       "      <td>3475</td>\n",
       "      <td>32990</td>\n",
       "      <td>14563764</td>\n",
       "    </tr>\n",
       "    <tr>\n",
       "      <th>4999</th>\n",
       "      <td>5000</td>\n",
       "      <td>B+</td>\n",
       "      <td>SehatAQUA</td>\n",
       "      <td>254</td>\n",
       "      <td>21172</td>\n",
       "      <td>73312511</td>\n",
       "    </tr>\n",
       "  </tbody>\n",
       "</table>\n",
       "</div>"
      ],
      "text/plain": [
       "      Rank Grade       Channel name Video Uploads Subscribers  Video views\n",
       "4995  4996   B+      Uras Benlioğlu           706     2072942    441202795\n",
       "4996  4997   B+   HI-TECH MUSIC LTD           797     1055091    377331722\n",
       "4997  4998   B+         Mastersaint           110     3265735    311758426\n",
       "4998  4999   B+      Bruce McIntosh          3475       32990     14563764\n",
       "4999  5000   B+           SehatAQUA           254       21172     73312511"
      ]
     },
     "execution_count": 7,
     "metadata": {},
     "output_type": "execute_result"
    }
   ],
   "source": [
    "ytube.tail()"
   ]
  },
  {
   "cell_type": "code",
   "execution_count": 8,
   "id": "93c8164f",
   "metadata": {},
   "outputs": [],
   "source": [
    " mask1 = ytube[ytube['Subscribers'].str.contains('-')].index\n",
    "# So we have drop cells with sign -- after which Subscribers column can be numerical"
   ]
  },
  {
   "cell_type": "code",
   "execution_count": 9,
   "id": "f7e3c5f6",
   "metadata": {},
   "outputs": [],
   "source": [
    "ytube.drop(labels=mask1,axis=0,inplace=True)"
   ]
  },
  {
   "cell_type": "code",
   "execution_count": 10,
   "id": "f6042467",
   "metadata": {},
   "outputs": [
    {
     "data": {
      "text/plain": [
       "(4613, 6)"
      ]
     },
     "execution_count": 10,
     "metadata": {},
     "output_type": "execute_result"
    }
   ],
   "source": [
    "ytube.shape"
   ]
  },
  {
   "cell_type": "code",
   "execution_count": 11,
   "id": "c3f51b36",
   "metadata": {},
   "outputs": [],
   "source": [
    "ytube['Subscribers'] = ytube['Subscribers'].astype('int')"
   ]
  },
  {
   "cell_type": "code",
   "execution_count": 12,
   "id": "71084f43",
   "metadata": {},
   "outputs": [],
   "source": [
    "ytube['Rank'] = ytube['Rank'].astype('int')"
   ]
  },
  {
   "cell_type": "code",
   "execution_count": 13,
   "id": "4b5f24f3",
   "metadata": {},
   "outputs": [
    {
     "name": "stdout",
     "output_type": "stream",
     "text": [
      "<class 'pandas.core.frame.DataFrame'>\n",
      "Int64Index: 4613 entries, 0 to 4999\n",
      "Data columns (total 6 columns):\n",
      " #   Column         Non-Null Count  Dtype \n",
      "---  ------         --------------  ----- \n",
      " 0   Rank           4613 non-null   int32 \n",
      " 1   Grade          4613 non-null   object\n",
      " 2   Channel name   4613 non-null   object\n",
      " 3   Video Uploads  4613 non-null   object\n",
      " 4   Subscribers    4613 non-null   int32 \n",
      " 5   Video views    4613 non-null   int64 \n",
      "dtypes: int32(2), int64(1), object(3)\n",
      "memory usage: 216.2+ KB\n"
     ]
    }
   ],
   "source": [
    "ytube.info()\n",
    "#Hence Subscribers and Rank is now completely converted into Numerical Data.Let's convert Video Uploads and Grade now"
   ]
  },
  {
   "cell_type": "code",
   "execution_count": 14,
   "id": "356b9f80",
   "metadata": {},
   "outputs": [
    {
     "data": {
      "text/plain": [
       "array(['A++ ', 'A+ ', 'A ', 'A- ', 'B+ ', '\\xa0 '], dtype=object)"
      ]
     },
     "execution_count": 14,
     "metadata": {},
     "output_type": "execute_result"
    }
   ],
   "source": [
    "ytube['Grade'].unique()"
   ]
  },
  {
   "cell_type": "code",
   "execution_count": 15,
   "id": "262007e5",
   "metadata": {},
   "outputs": [],
   "source": [
    "channel_map = {'A++ ':5,'A+ ':4,'A ':3,'A- ':2,'B+ ':1}"
   ]
  },
  {
   "cell_type": "code",
   "execution_count": 16,
   "id": "9a748dec",
   "metadata": {},
   "outputs": [],
   "source": [
    "ytube['Grade'] = ytube['Grade'].map(channel_map)"
   ]
  },
  {
   "cell_type": "code",
   "execution_count": 17,
   "id": "ea18622f",
   "metadata": {},
   "outputs": [
    {
     "data": {
      "text/plain": [
       "array([ 5.,  4.,  3.,  2.,  1., nan])"
      ]
     },
     "execution_count": 17,
     "metadata": {},
     "output_type": "execute_result"
    }
   ],
   "source": [
    "ytube['Grade'].unique()"
   ]
  },
  {
   "cell_type": "code",
   "execution_count": 18,
   "id": "bfc0d013",
   "metadata": {},
   "outputs": [
    {
     "data": {
      "text/html": [
       "<div>\n",
       "<style scoped>\n",
       "    .dataframe tbody tr th:only-of-type {\n",
       "        vertical-align: middle;\n",
       "    }\n",
       "\n",
       "    .dataframe tbody tr th {\n",
       "        vertical-align: top;\n",
       "    }\n",
       "\n",
       "    .dataframe thead th {\n",
       "        text-align: right;\n",
       "    }\n",
       "</style>\n",
       "<table border=\"1\" class=\"dataframe\">\n",
       "  <thead>\n",
       "    <tr style=\"text-align: right;\">\n",
       "      <th></th>\n",
       "      <th>Rank</th>\n",
       "      <th>Grade</th>\n",
       "      <th>Channel name</th>\n",
       "      <th>Video Uploads</th>\n",
       "      <th>Subscribers</th>\n",
       "      <th>Video views</th>\n",
       "    </tr>\n",
       "  </thead>\n",
       "  <tbody>\n",
       "    <tr>\n",
       "      <th>0</th>\n",
       "      <td>1</td>\n",
       "      <td>5.0</td>\n",
       "      <td>Zee TV</td>\n",
       "      <td>82757</td>\n",
       "      <td>18752951</td>\n",
       "      <td>20869786591</td>\n",
       "    </tr>\n",
       "    <tr>\n",
       "      <th>1</th>\n",
       "      <td>2</td>\n",
       "      <td>5.0</td>\n",
       "      <td>T-Series</td>\n",
       "      <td>12661</td>\n",
       "      <td>61196302</td>\n",
       "      <td>47548839843</td>\n",
       "    </tr>\n",
       "    <tr>\n",
       "      <th>2</th>\n",
       "      <td>3</td>\n",
       "      <td>5.0</td>\n",
       "      <td>Cocomelon - Nursery Rhymes</td>\n",
       "      <td>373</td>\n",
       "      <td>19238251</td>\n",
       "      <td>9793305082</td>\n",
       "    </tr>\n",
       "    <tr>\n",
       "      <th>3</th>\n",
       "      <td>4</td>\n",
       "      <td>5.0</td>\n",
       "      <td>SET India</td>\n",
       "      <td>27323</td>\n",
       "      <td>31180559</td>\n",
       "      <td>22675948293</td>\n",
       "    </tr>\n",
       "    <tr>\n",
       "      <th>4</th>\n",
       "      <td>5</td>\n",
       "      <td>5.0</td>\n",
       "      <td>WWE</td>\n",
       "      <td>36756</td>\n",
       "      <td>32852346</td>\n",
       "      <td>26273668433</td>\n",
       "    </tr>\n",
       "  </tbody>\n",
       "</table>\n",
       "</div>"
      ],
      "text/plain": [
       "   Rank  Grade                Channel name Video Uploads  Subscribers  \\\n",
       "0     1    5.0                      Zee TV         82757     18752951   \n",
       "1     2    5.0                    T-Series         12661     61196302   \n",
       "2     3    5.0  Cocomelon - Nursery Rhymes           373     19238251   \n",
       "3     4    5.0                   SET India         27323     31180559   \n",
       "4     5    5.0                         WWE         36756     32852346   \n",
       "\n",
       "   Video views  \n",
       "0  20869786591  \n",
       "1  47548839843  \n",
       "2   9793305082  \n",
       "3  22675948293  \n",
       "4  26273668433  "
      ]
     },
     "execution_count": 18,
     "metadata": {},
     "output_type": "execute_result"
    }
   ],
   "source": [
    "ytube.head()"
   ]
  },
  {
   "cell_type": "code",
   "execution_count": 19,
   "id": "63caeab5",
   "metadata": {},
   "outputs": [],
   "source": [
    " mask2 = ytube[ytube['Video Uploads'].str.contains('-')].index"
   ]
  },
  {
   "cell_type": "code",
   "execution_count": 20,
   "id": "e22d368a",
   "metadata": {},
   "outputs": [],
   "source": [
    "ytube.drop(labels=mask2,axis=0,inplace=True)"
   ]
  },
  {
   "cell_type": "code",
   "execution_count": 21,
   "id": "738798e2",
   "metadata": {},
   "outputs": [],
   "source": [
    "ytube['Video Uploads'] = ytube['Video Uploads'].astype('int')"
   ]
  },
  {
   "cell_type": "code",
   "execution_count": 22,
   "id": "09c58f9e",
   "metadata": {},
   "outputs": [
    {
     "name": "stdout",
     "output_type": "stream",
     "text": [
      "<class 'pandas.core.frame.DataFrame'>\n",
      "Int64Index: 4610 entries, 0 to 4999\n",
      "Data columns (total 6 columns):\n",
      " #   Column         Non-Null Count  Dtype  \n",
      "---  ------         --------------  -----  \n",
      " 0   Rank           4610 non-null   int32  \n",
      " 1   Grade          4610 non-null   float64\n",
      " 2   Channel name   4610 non-null   object \n",
      " 3   Video Uploads  4610 non-null   int32  \n",
      " 4   Subscribers    4610 non-null   int32  \n",
      " 5   Video views    4610 non-null   int64  \n",
      "dtypes: float64(1), int32(3), int64(1), object(1)\n",
      "memory usage: 198.1+ KB\n"
     ]
    }
   ],
   "source": [
    "ytube.info()\n",
    "#Hence task Completed !!"
   ]
  },
  {
   "cell_type": "code",
   "execution_count": 23,
   "id": "ab993da2",
   "metadata": {},
   "outputs": [
    {
     "data": {
      "text/html": [
       "<div>\n",
       "<style scoped>\n",
       "    .dataframe tbody tr th:only-of-type {\n",
       "        vertical-align: middle;\n",
       "    }\n",
       "\n",
       "    .dataframe tbody tr th {\n",
       "        vertical-align: top;\n",
       "    }\n",
       "\n",
       "    .dataframe thead th {\n",
       "        text-align: right;\n",
       "    }\n",
       "</style>\n",
       "<table border=\"1\" class=\"dataframe\">\n",
       "  <thead>\n",
       "    <tr style=\"text-align: right;\">\n",
       "      <th></th>\n",
       "      <th>Rank</th>\n",
       "      <th>Grade</th>\n",
       "      <th>Channel name</th>\n",
       "      <th>Video Uploads</th>\n",
       "      <th>Subscribers</th>\n",
       "      <th>Video views</th>\n",
       "    </tr>\n",
       "  </thead>\n",
       "  <tbody>\n",
       "    <tr>\n",
       "      <th>0</th>\n",
       "      <td>1</td>\n",
       "      <td>5.0</td>\n",
       "      <td>Zee TV</td>\n",
       "      <td>82757</td>\n",
       "      <td>18752951</td>\n",
       "      <td>20869786591</td>\n",
       "    </tr>\n",
       "    <tr>\n",
       "      <th>1</th>\n",
       "      <td>2</td>\n",
       "      <td>5.0</td>\n",
       "      <td>T-Series</td>\n",
       "      <td>12661</td>\n",
       "      <td>61196302</td>\n",
       "      <td>47548839843</td>\n",
       "    </tr>\n",
       "    <tr>\n",
       "      <th>2</th>\n",
       "      <td>3</td>\n",
       "      <td>5.0</td>\n",
       "      <td>Cocomelon - Nursery Rhymes</td>\n",
       "      <td>373</td>\n",
       "      <td>19238251</td>\n",
       "      <td>9793305082</td>\n",
       "    </tr>\n",
       "    <tr>\n",
       "      <th>3</th>\n",
       "      <td>4</td>\n",
       "      <td>5.0</td>\n",
       "      <td>SET India</td>\n",
       "      <td>27323</td>\n",
       "      <td>31180559</td>\n",
       "      <td>22675948293</td>\n",
       "    </tr>\n",
       "    <tr>\n",
       "      <th>4</th>\n",
       "      <td>5</td>\n",
       "      <td>5.0</td>\n",
       "      <td>WWE</td>\n",
       "      <td>36756</td>\n",
       "      <td>32852346</td>\n",
       "      <td>26273668433</td>\n",
       "    </tr>\n",
       "  </tbody>\n",
       "</table>\n",
       "</div>"
      ],
      "text/plain": [
       "   Rank  Grade                Channel name  Video Uploads  Subscribers  \\\n",
       "0     1    5.0                      Zee TV          82757     18752951   \n",
       "1     2    5.0                    T-Series          12661     61196302   \n",
       "2     3    5.0  Cocomelon - Nursery Rhymes            373     19238251   \n",
       "3     4    5.0                   SET India          27323     31180559   \n",
       "4     5    5.0                         WWE          36756     32852346   \n",
       "\n",
       "   Video views  \n",
       "0  20869786591  \n",
       "1  47548839843  \n",
       "2   9793305082  \n",
       "3  22675948293  \n",
       "4  26273668433  "
      ]
     },
     "execution_count": 23,
     "metadata": {},
     "output_type": "execute_result"
    }
   ],
   "source": [
    "ytube.head()"
   ]
  },
  {
   "cell_type": "code",
   "execution_count": 24,
   "id": "912694ec",
   "metadata": {},
   "outputs": [
    {
     "data": {
      "text/html": [
       "<div>\n",
       "<style scoped>\n",
       "    .dataframe tbody tr th:only-of-type {\n",
       "        vertical-align: middle;\n",
       "    }\n",
       "\n",
       "    .dataframe tbody tr th {\n",
       "        vertical-align: top;\n",
       "    }\n",
       "\n",
       "    .dataframe thead th {\n",
       "        text-align: right;\n",
       "    }\n",
       "</style>\n",
       "<table border=\"1\" class=\"dataframe\">\n",
       "  <thead>\n",
       "    <tr style=\"text-align: right;\">\n",
       "      <th></th>\n",
       "      <th>Rank</th>\n",
       "      <th>Grade</th>\n",
       "      <th>Channel name</th>\n",
       "      <th>Video Uploads</th>\n",
       "      <th>Subscribers</th>\n",
       "      <th>Video views</th>\n",
       "    </tr>\n",
       "  </thead>\n",
       "  <tbody>\n",
       "    <tr>\n",
       "      <th>3453</th>\n",
       "      <td>3454</td>\n",
       "      <td>1.0</td>\n",
       "      <td>AP Archive</td>\n",
       "      <td>422326</td>\n",
       "      <td>746325</td>\n",
       "      <td>548619569</td>\n",
       "    </tr>\n",
       "    <tr>\n",
       "      <th>1149</th>\n",
       "      <td>1150</td>\n",
       "      <td>2.0</td>\n",
       "      <td>YTN NEWS</td>\n",
       "      <td>355996</td>\n",
       "      <td>820108</td>\n",
       "      <td>1640347646</td>\n",
       "    </tr>\n",
       "    <tr>\n",
       "      <th>2223</th>\n",
       "      <td>2224</td>\n",
       "      <td>1.0</td>\n",
       "      <td>SBS Drama</td>\n",
       "      <td>335521</td>\n",
       "      <td>1418619</td>\n",
       "      <td>1565758044</td>\n",
       "    </tr>\n",
       "    <tr>\n",
       "      <th>323</th>\n",
       "      <td>324</td>\n",
       "      <td>3.0</td>\n",
       "      <td>GMA News</td>\n",
       "      <td>269065</td>\n",
       "      <td>2599175</td>\n",
       "      <td>2786949164</td>\n",
       "    </tr>\n",
       "    <tr>\n",
       "      <th>2956</th>\n",
       "      <td>2957</td>\n",
       "      <td>1.0</td>\n",
       "      <td>MLB</td>\n",
       "      <td>267649</td>\n",
       "      <td>1434206</td>\n",
       "      <td>1329206392</td>\n",
       "    </tr>\n",
       "  </tbody>\n",
       "</table>\n",
       "</div>"
      ],
      "text/plain": [
       "      Rank  Grade Channel name  Video Uploads  Subscribers  Video views\n",
       "3453  3454    1.0   AP Archive         422326       746325    548619569\n",
       "1149  1150    2.0     YTN NEWS         355996       820108   1640347646\n",
       "2223  2224    1.0    SBS Drama         335521      1418619   1565758044\n",
       "323    324    3.0     GMA News         269065      2599175   2786949164\n",
       "2956  2957    1.0          MLB         267649      1434206   1329206392"
      ]
     },
     "execution_count": 24,
     "metadata": {},
     "output_type": "execute_result"
    }
   ],
   "source": [
    "df=ytube.sort_values('Video Uploads',ascending=False)\n",
    "df.head()\n",
    "#Hence we can find out Channels with maximum no of Video Uploads,Subscribers,Video views by various imbuilt functions"
   ]
  },
  {
   "cell_type": "code",
   "execution_count": 25,
   "id": "f3091603",
   "metadata": {},
   "outputs": [],
   "source": [
    "df1 = ytube.groupby(['Grade']).agg({'Video Uploads':'max','Subscribers':'max','Video views':'max'})"
   ]
  },
  {
   "cell_type": "code",
   "execution_count": 26,
   "id": "0e4e1460",
   "metadata": {},
   "outputs": [
    {
     "data": {
      "text/html": [
       "<div>\n",
       "<style scoped>\n",
       "    .dataframe tbody tr th:only-of-type {\n",
       "        vertical-align: middle;\n",
       "    }\n",
       "\n",
       "    .dataframe tbody tr th {\n",
       "        vertical-align: top;\n",
       "    }\n",
       "\n",
       "    .dataframe thead th {\n",
       "        text-align: right;\n",
       "    }\n",
       "</style>\n",
       "<table border=\"1\" class=\"dataframe\">\n",
       "  <thead>\n",
       "    <tr style=\"text-align: right;\">\n",
       "      <th></th>\n",
       "      <th>Video Uploads</th>\n",
       "      <th>Subscribers</th>\n",
       "      <th>Video views</th>\n",
       "    </tr>\n",
       "    <tr>\n",
       "      <th>Grade</th>\n",
       "      <th></th>\n",
       "      <th></th>\n",
       "      <th></th>\n",
       "    </tr>\n",
       "  </thead>\n",
       "  <tbody>\n",
       "    <tr>\n",
       "      <th>1.0</th>\n",
       "      <td>422326</td>\n",
       "      <td>34480357</td>\n",
       "      <td>6841746256</td>\n",
       "    </tr>\n",
       "    <tr>\n",
       "      <th>2.0</th>\n",
       "      <td>355996</td>\n",
       "      <td>65995310</td>\n",
       "      <td>18684630003</td>\n",
       "    </tr>\n",
       "    <tr>\n",
       "      <th>3.0</th>\n",
       "      <td>269065</td>\n",
       "      <td>34489432</td>\n",
       "      <td>17806717170</td>\n",
       "    </tr>\n",
       "    <tr>\n",
       "      <th>4.0</th>\n",
       "      <td>186194</td>\n",
       "      <td>39409726</td>\n",
       "      <td>19291034467</td>\n",
       "    </tr>\n",
       "    <tr>\n",
       "      <th>5.0</th>\n",
       "      <td>100147</td>\n",
       "      <td>61196302</td>\n",
       "      <td>47548839843</td>\n",
       "    </tr>\n",
       "  </tbody>\n",
       "</table>\n",
       "</div>"
      ],
      "text/plain": [
       "       Video Uploads  Subscribers  Video views\n",
       "Grade                                         \n",
       "1.0           422326     34480357   6841746256\n",
       "2.0           355996     65995310  18684630003\n",
       "3.0           269065     34489432  17806717170\n",
       "4.0           186194     39409726  19291034467\n",
       "5.0           100147     61196302  47548839843"
      ]
     },
     "execution_count": 26,
     "metadata": {},
     "output_type": "execute_result"
    }
   ],
   "source": [
    "df1.head()"
   ]
  },
  {
   "cell_type": "code",
   "execution_count": 27,
   "id": "5c3d69fe",
   "metadata": {},
   "outputs": [],
   "source": [
    "df1.reset_index(inplace=True)"
   ]
  },
  {
   "cell_type": "code",
   "execution_count": 28,
   "id": "8c838ac7",
   "metadata": {},
   "outputs": [
    {
     "data": {
      "text/plain": [
       "<AxesSubplot:xlabel='Grade', ylabel='Video Uploads'>"
      ]
     },
     "execution_count": 28,
     "metadata": {},
     "output_type": "execute_result"
    },
    {
     "data": {
      "image/png": "[encoded data removed]",
      "text/plain": [
       "<Figure size 432x288 with 1 Axes>"
      ]
     },
     "metadata": {
      "needs_background": "light"
     },
     "output_type": "display_data"
    }
   ],
   "source": [
    "sns.barplot(x='Grade',y='Video Uploads',data=df1)\n",
    "#Relationship between Grades with Maximum no of Video Uploads"
   ]
  },
  {
   "cell_type": "code",
   "execution_count": null,
   "id": "800a0de7",
   "metadata": {},
   "outputs": [],
   "source": []
  }
 ],
 "metadata": {
  "kernelspec": {
   "display_name": "Python 3",
   "language": "python",
   "name": "python3"
  },
  "language_info": {
   "codemirror_mode": {
    "name": "ipython",
    "version": 3
   },
   "file_extension": ".py",
   "mimetype": "text/x-python",
   "name": "python",
   "nbconvert_exporter": "python",
   "pygments_lexer": "ipython3",
   "version": "3.8.8"
  }
 },
 "nbformat": 4,
 "nbformat_minor": 5
}
